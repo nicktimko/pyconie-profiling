{
 "cells": [
  {
   "cell_type": "markdown",
   "metadata": {},
   "source": [
    "# Iterate in IPython!\n",
    "\n",
    "Quick and interactive"
   ]
  },
  {
   "cell_type": "code",
   "execution_count": 7,
   "metadata": {},
   "outputs": [],
   "source": [
    "from itertools import chain\n",
    "\n",
    "def tf_to_gene_dict(gene_list, gene_to_tf_dict):\n",
    "    \"\"\"\n",
    "\n",
    "    :param gene_list:\n",
    "    :param gene_to_tf_dict:\n",
    "    :return:\n",
    "    \"\"\"\n",
    "    # Get a set of TFs from the dictionary values\n",
    "    tf_set = set(chain(*gene_to_tf_dict.values()))\n",
    "\n",
    "    # Initialize dictionary with TFs as keys\n",
    "    tf_dict = {tf: None for tf in tf_set}\n",
    "\n",
    "    # For each TF\n",
    "    for tf in tf_dict.keys():\n",
    "\n",
    "        # Add the gene to the set if the TF is a associated with it\n",
    "        tf_match = []\n",
    "        for gene in gene_list:\n",
    "            try:\n",
    "                if tf in gene_to_tf_dict[gene]:\n",
    "                    tf_match.append(gene)\n",
    "                    # break\n",
    "            except KeyError:\n",
    "                pass\n",
    "        tf_dict[tf] = set(tf_match)\n",
    "    return tf_dict"
   ]
  },
  {
   "cell_type": "markdown",
   "metadata": {},
   "source": [
    "Generate some random data that works with the function"
   ]
  },
  {
   "cell_type": "code",
   "execution_count": 8,
   "metadata": {},
   "outputs": [],
   "source": [
    "import random\n",
    "import string\n",
    "\n",
    "def rand_str():\n",
    "    return ''.join(random.choices(string.ascii_uppercase, k=8))\n",
    "\n",
    "def synth_data(n=1000, m=1000):\n",
    "    genes = [rand_str() for _ in range(n)]\n",
    "    tfs = [rand_str() for _ in range(m)]\n",
    "    \n",
    "    gene_list = [g for g in genes if random.random() < 0.9]\n",
    "    genes_to_tfs = {\n",
    "        g: [tf for tf in tfs if random.random() < 0.1] \n",
    "        for g \n",
    "        in genes \n",
    "        if random.random() < 0.9\n",
    "    }\n",
    "    return gene_list, genes_to_tfs"
   ]
  },
  {
   "cell_type": "markdown",
   "metadata": {},
   "source": [
    "Scale it to a reasonable size so it takes a little time, but not too much."
   ]
  },
  {
   "cell_type": "code",
   "execution_count": 15,
   "metadata": {},
   "outputs": [
    {
     "name": "stdout",
     "output_type": "stream",
     "text": [
      "CPU times: user 345 ms, sys: 0 ns, total: 345 ms\n",
      "Wall time: 346 ms\n"
     ]
    }
   ],
   "source": [
    "n = 600\n",
    "\n",
    "random.seed(0)\n",
    "gene_list, gene_to_tf_dict = synth_data(n, n)\n",
    "\n",
    "%time tf_dict = tf_to_gene_dict(gene_list, gene_to_tf_dict)"
   ]
  },
  {
   "cell_type": "markdown",
   "metadata": {},
   "source": [
    "Try optimizing the code under test"
   ]
  },
  {
   "cell_type": "code",
   "execution_count": 16,
   "metadata": {},
   "outputs": [],
   "source": [
    "import collections\n",
    "\n",
    "def tf_to_gene_dict2(gene_list, gene_to_tf_dict):\n",
    "    \"\"\"\n",
    "    For all the genes in *gene_list*, flip the *gene_to_tf_dict* mapping\n",
    "    around and with *tf* as a key, return the set of all related genes.\n",
    "\n",
    "    :param gene_list:\n",
    "    :param gene_to_tf_dict:\n",
    "    :return:\n",
    "    \"\"\"\n",
    "    genes_to_return = set(gene_list)\n",
    "    \n",
    "    def gene_tf_pairs():\n",
    "        for gene, tfs in gene_to_tf_dict.items():\n",
    "            if gene not in genes_to_return:\n",
    "                continue\n",
    "            for tf in tfs:\n",
    "                yield gene, tf\n",
    "\n",
    "    tfs_to_genes = collections.defaultdict(set)\n",
    "\n",
    "    for gene, tf in gene_tf_pairs():\n",
    "        tfs_to_genes[tf].add(gene)\n",
    "    \n",
    "    return dict(tfs_to_genes)"
   ]
  },
  {
   "cell_type": "code",
   "execution_count": 20,
   "metadata": {},
   "outputs": [
    {
     "name": "stdout",
     "output_type": "stream",
     "text": [
      "6.6 ms ± 496 µs per loop (mean ± std. dev. of 7 runs, 100 loops each)\n"
     ]
    }
   ],
   "source": [
    "n = 600\n",
    "\n",
    "random.seed(0)\n",
    "gene_list, gene_to_tf_dict = synth_data(n, n)\n",
    "\n",
    "%timeit tf_dict2 = tf_to_gene_dict2(gene_list, gene_to_tf_dict)"
   ]
  },
  {
   "cell_type": "code",
   "execution_count": 19,
   "metadata": {},
   "outputs": [],
   "source": [
    "n = 200\n",
    "random.seed(1)\n",
    "for _ in range(50):\n",
    "    gene_list, gene_to_tf_dict = synth_data(n, n)\n",
    "    assert (\n",
    "        tf_to_gene_dict(gene_list, gene_to_tf_dict) \n",
    "        == tf_to_gene_dict2(gene_list, gene_to_tf_dict)\n",
    "    )"
   ]
  },
  {
   "cell_type": "code",
   "execution_count": null,
   "metadata": {},
   "outputs": [],
   "source": []
  }
 ],
 "metadata": {
  "kernelspec": {
   "display_name": "Python 3",
   "language": "python",
   "name": "python3"
  },
  "language_info": {
   "codemirror_mode": {
    "name": "ipython",
    "version": 3
   },
   "file_extension": ".py",
   "mimetype": "text/x-python",
   "name": "python",
   "nbconvert_exporter": "python",
   "pygments_lexer": "ipython3",
   "version": "3.7.1"
  }
 },
 "nbformat": 4,
 "nbformat_minor": 2
}

{
 "cells": [
  {
   "cell_type": "markdown",
   "metadata": {},
   "source": [
    "# SnakeViz Magics"
   ]
  },
  {
   "cell_type": "code",
   "execution_count": 1,
   "metadata": {},
   "outputs": [],
   "source": [
    "import huffcodes"
   ]
  },
  {
   "cell_type": "code",
   "execution_count": 2,
   "metadata": {},
   "outputs": [],
   "source": [
    "%load_ext snakeviz"
   ]
  },
  {
   "cell_type": "code",
   "execution_count": 3,
   "metadata": {
    "scrolled": true
   },
   "outputs": [
    {
     "name": "stdout",
     "output_type": "stream",
     "text": [
      "      word |  count |       code\n",
      "----------------------------------------\n",
      "     whale |   1113 |    1110100\n",
      "       one |    917 |    1001011\n",
      "      like |    581 |   11110111\n",
      "      upon |    567 |   11101101\n",
      "      ahab |    517 |   11011100\n",
      "       man |    502 |   10101011\n",
      "        ye |    472 |   10011110\n",
      "      ship |    471 |   10011101\n",
      "       old |    445 |   10001000\n",
      "     would |    430 |   10000010\n",
      " \n",
      "*** Profile stats marshalled to file '/tmp/tmpqdav12mb'. \n"
     ]
    }
   ],
   "source": [
    "%%snakeviz\n",
    "huffcodes.main([\"./corpora/whale.txt\"])"
   ]
  },
  {
   "cell_type": "code",
   "execution_count": null,
   "metadata": {},
   "outputs": [],
   "source": []
  }
 ],
 "metadata": {
  "kernelspec": {
   "display_name": "Python 3",
   "language": "python",
   "name": "python3"
  },
  "language_info": {
   "codemirror_mode": {
    "name": "ipython",
    "version": 3
   },
   "file_extension": ".py",
   "mimetype": "text/x-python",
   "name": "python",
   "nbconvert_exporter": "python",
   "pygments_lexer": "ipython3",
   "version": "3.7.1"
  }
 },
 "nbformat": 4,
 "nbformat_minor": 2
}
